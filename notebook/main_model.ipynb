{
 "cells": [
  {
   "cell_type": "code",
   "execution_count": 20,
   "metadata": {},
   "outputs": [],
   "source": [
    "import numpy as np\n",
    "import pandas as pd\n",
    "from scipy.stats import mode\n",
    "import matplotlib.pyplot as plt\n",
    "import seaborn as sns\n",
    "from sklearn.preprocessing import LabelEncoder\n",
    "from sklearn.model_selection import train_test_split, cross_val_score\n",
    "from sklearn.svm import SVC\n",
    "from sklearn.naive_bayes import GaussianNB\n",
    "from sklearn.ensemble import RandomForestClassifier\n",
    "import warnings\n",
    "from statistics import mode\n",
    "\n",
    " \n",
    "%matplotlib inline"
   ]
  },
  {
   "cell_type": "code",
   "execution_count": 21,
   "metadata": {},
   "outputs": [],
   "source": [
    "train_data=pd.read_csv(\"Training.csv\").dropna(axis=1)\n",
    "test_data=pd.read_csv(\"Testing.csv\").dropna(axis=1)"
   ]
  },
  {
   "cell_type": "code",
   "execution_count": 22,
   "metadata": {},
   "outputs": [],
   "source": [
    "encoder=LabelEncoder()\n",
    "train_data['prognosis']=encoder.fit_transform(train_data['prognosis'])\n",
    "test_data['prognosis']=encoder.fit_transform(test_data['prognosis'])"
   ]
  },
  {
   "cell_type": "code",
   "execution_count": 23,
   "metadata": {},
   "outputs": [],
   "source": [
    "x=train_data.iloc[:,:-1]\n",
    "y=train_data.iloc[:,-1]\n",
    "\n",
    "x_train,x_test,y_train,y_test=train_test_split(x,y,test_size=0.2,random_state=24)"
   ]
  },
  {
   "cell_type": "code",
   "execution_count": 24,
   "metadata": {},
   "outputs": [],
   "source": [
    "svmModelFit = SVC()\n",
    "nbModelFit = GaussianNB()\n",
    "rfModelFit = RandomForestClassifier(random_state=18)\n",
    "\n",
    "svmModelFit.fit(x, y)\n",
    "nbModelFit.fit(x, y)\n",
    "rfModelFit.fit(x, y)\n",
    "\n",
    "test_x = test_data.iloc[:, :-1]\n",
    "test_y = test_data.iloc[:, -1]\n",
    "\n",
    "svmPredicts = svmModelFit.predict(test_x)\n",
    "nbModelPredicts = nbModelFit.predict(test_x)\n",
    "rfModelPredicts = rfModelFit.predict(test_x)"
   ]
  },
  {
   "cell_type": "code",
   "execution_count": 25,
   "metadata": {},
   "outputs": [
    {
     "name": "stdout",
     "output_type": "stream",
     "text": [
      "{'rf_model_prediction': 'Diabetes ', 'naive_bayes_prediction': 'Diabetes ', 'svm_model_prediction': 'Diabetes ', 'final_prediction': 'Diabetes '}\n"
     ]
    }
   ],
   "source": [
    "symptoms = x.columns.values\n",
    "\n",
    "# input symptoms into numerical form\n",
    "symptom_index = {}\n",
    "for index, value in enumerate(symptoms):\n",
    "\tsymptom = \" \".join([i.capitalize() for i in value.split(\"_\")])\n",
    "\tsymptom_index[symptom] = index\n",
    "\n",
    "data_dict = {\n",
    "\t\"symptom_index\":symptom_index,\n",
    "\t\"predictions_classes\":encoder.classes_\n",
    "}\n",
    "\n",
    "\n",
    "def predictDisease(symptoms):\n",
    "\tsymptoms = symptoms.split(\",\")\n",
    "\t\n",
    "\tinput_data = [0] * len(data_dict[\"symptom_index\"])\n",
    "\tfor symptom in symptoms:\n",
    "\t\tindex = data_dict[\"symptom_index\"][symptom]\n",
    "\t\tinput_data[index] = 1\n",
    "\t\t\n",
    "\n",
    "\tinput_data = np.array(input_data).reshape(1,-1)\n",
    "\t\n",
    "\t# generating individual outputs\n",
    "\trf_prediction = data_dict[\"predictions_classes\"][rfModelFit.predict(input_data)[0]]\n",
    "\tnb_prediction = data_dict[\"predictions_classes\"][nbModelFit.predict(input_data)[0]]\n",
    "\tsvm_prediction = data_dict[\"predictions_classes\"][svmModelFit.predict(input_data)[0]]\n",
    "\t\n",
    "\t# making final prediction by taking mode of all predictions\n",
    "\tfinal_prediction = mode([rf_prediction, nb_prediction, svm_prediction])\n",
    "\tpredictions = {\n",
    "\t\t\"rf_model_prediction\": rf_prediction,\n",
    "\t\t\"naive_bayes_prediction\": nb_prediction,\n",
    "\t\t\"svm_model_prediction\": svm_prediction,\n",
    "\t\t\"final_prediction\":final_prediction\n",
    "\t}\n",
    "\treturn predictions\n",
    "\n",
    "# Testing the function\n",
    "test_symptoms = \"Polyuria,Increased Appetite,Excessive Hunger,Obesity,Skin Rash,Blurred And Distorted Vision,Fatigue\"\n",
    "test_predictions = predictDisease(test_symptoms)\n",
    "print(test_predictions)\n",
    "warnings.filterwarnings(\"ignore\", category=UserWarning)"
   ]
  }
 ],
 "metadata": {
  "kernelspec": {
   "display_name": "base",
   "language": "python",
   "name": "python3"
  },
  "language_info": {
   "codemirror_mode": {
    "name": "ipython",
    "version": 3
   },
   "file_extension": ".py",
   "mimetype": "text/x-python",
   "name": "python",
   "nbconvert_exporter": "python",
   "pygments_lexer": "ipython3",
   "version": "3.11.7"
  }
 },
 "nbformat": 4,
 "nbformat_minor": 2
}
